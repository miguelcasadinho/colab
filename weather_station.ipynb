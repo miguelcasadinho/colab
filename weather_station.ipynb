{
  "nbformat": 4,
  "nbformat_minor": 0,
  "metadata": {
    "colab": {
      "provenance": [],
      "authorship_tag": "ABX9TyN+R5NExvzlfbLKaBh7DvD/",
      "include_colab_link": true
    },
    "kernelspec": {
      "name": "python3",
      "display_name": "Python 3"
    },
    "language_info": {
      "name": "python"
    }
  },
  "cells": [
    {
      "cell_type": "markdown",
      "metadata": {
        "id": "view-in-github",
        "colab_type": "text"
      },
      "source": [
        "<a href=\"https://colab.research.google.com/github/miguelcasadinho/colab/blob/main/weather_station.ipynb\" target=\"_parent\"><img src=\"https://colab.research.google.com/assets/colab-badge.svg\" alt=\"Open In Colab\"/></a>"
      ]
    },
    {
      "cell_type": "markdown",
      "source": [
        "Weather Station Data"
      ],
      "metadata": {
        "id": "WuVT8gB0WfSf"
      }
    },
    {
      "cell_type": "markdown",
      "source": [
        "Part 1 - Data cleaning"
      ],
      "metadata": {
        "id": "MbM7noQeWkZn"
      }
    },
    {
      "cell_type": "code",
      "source": [
        "# Import the libraries\n",
        "import numpy as np\n",
        "import pandas as pd\n",
        "import matplotlib.pyplot as plt\n",
        "from datetime import datetime, timedelta"
      ],
      "metadata": {
        "id": "wxznaURNWpqN"
      },
      "execution_count": 1,
      "outputs": []
    },
    {
      "cell_type": "code",
      "source": [
        "# Import the dataset\n",
        "dataset = pd.read_csv('weather.csv')\n",
        "\n",
        "#print(dataset)\n",
        "print(dataset.shape)"
      ],
      "metadata": {
        "colab": {
          "base_uri": "https://localhost:8080/"
        },
        "id": "0Bvdrj9KW0PI",
        "outputId": "9e9cad42-9463-4e37-a2b2-56a4a5487a76"
      },
      "execution_count": 46,
      "outputs": [
        {
          "output_type": "stream",
          "name": "stdout",
          "text": [
            "(119372, 9)\n"
          ]
        }
      ]
    },
    {
      "cell_type": "code",
      "source": [
        "# Round to the nearest 5 minutes\n",
        "def round_to_nearest_5_minutes(timestamp):\n",
        "    minutes = timestamp.minute\n",
        "    nearest_5 = 5 * round(minutes / 5)\n",
        "\n",
        "    if nearest_5 == 60:\n",
        "        # Verifique se a hora é 23 e, se for, ajuste para o próximo dia\n",
        "        if timestamp.hour == 23:\n",
        "            return timestamp.replace(hour=0, minute=0, second=0, microsecond=0) + timedelta(days=1)\n",
        "        else:\n",
        "            return timestamp.replace(hour=timestamp.hour + 1, minute=0, second=0, microsecond=0)\n",
        "    else:\n",
        "        return timestamp.replace(minute=nearest_5, second=0, microsecond=0)"
      ],
      "metadata": {
        "id": "CPkrvMHGXeFy"
      },
      "execution_count": 47,
      "outputs": []
    },
    {
      "cell_type": "code",
      "source": [
        "# Convert 'date' column to datetime object\n",
        "dataset['date'] = pd.to_datetime(dataset['date'])\n",
        "\n",
        "#  Round to nearest 5 minutes\n",
        "dataset['date'] = dataset['date'].apply(round_to_nearest_5_minutes)\n",
        "\n",
        "print(dataset.shape)\n",
        "#print(dataset)"
      ],
      "metadata": {
        "colab": {
          "base_uri": "https://localhost:8080/"
        },
        "id": "f2QnbqO1Xvot",
        "outputId": "eeebbf32-3764-4937-8fa9-f5d9a6b936f2"
      },
      "execution_count": 48,
      "outputs": [
        {
          "output_type": "stream",
          "name": "stdout",
          "text": [
            "(119372, 9)\n"
          ]
        }
      ]
    },
    {
      "cell_type": "code",
      "source": [
        "# Handling rows with NaN values\n",
        "# Identify rows with NaN values\n",
        "dataset_rows_with_nan = dataset[dataset.isnull().any(axis=1)]\n",
        "#print(\"Rows with NaN in dataset:\", dataset_rows_with_nan)\n",
        "\n",
        "# Deleting rows with NaN values\n",
        "dataset.dropna(inplace=True)\n",
        "\n",
        "print(dataset.shape)"
      ],
      "metadata": {
        "colab": {
          "base_uri": "https://localhost:8080/"
        },
        "id": "40KAJlxsYuvC",
        "outputId": "8050216c-e88e-4486-a889-33d20c9fb733"
      },
      "execution_count": 49,
      "outputs": [
        {
          "output_type": "stream",
          "name": "stdout",
          "text": [
            "(119372, 9)\n"
          ]
        }
      ]
    },
    {
      "cell_type": "code",
      "source": [
        "# Handling duplicates timestamps\n",
        "dataset_duplicate_rows = dataset[dataset.duplicated(subset=['date'])]\n",
        "print(\"Number of duplicate rows in dataset:\", len(dataset_duplicate_rows))\n",
        "#print(dataset_duplicate_rows)\n",
        "# Remove the duplicate rows based on Time:\n",
        "dataset.drop_duplicates(subset=['date'], inplace=True)\n",
        "\n",
        "print(dataset.shape)"
      ],
      "metadata": {
        "colab": {
          "base_uri": "https://localhost:8080/"
        },
        "id": "ckw9qgV8Zeyr",
        "outputId": "2f43790a-98d1-4efc-e90d-98cb1d4fc80a"
      },
      "execution_count": 50,
      "outputs": [
        {
          "output_type": "stream",
          "name": "stdout",
          "text": [
            "Number of duplicate rows in dataset: 34\n",
            "(119338, 9)\n"
          ]
        }
      ]
    },
    {
      "cell_type": "code",
      "source": [
        "# Outlier detection and treatment using Z-score\n",
        "from scipy.stats import zscore\n",
        "\n",
        "# Set the Z-score threshold (e.g., 5 standard deviations)\n",
        "threshold = 5\n",
        "\n",
        "# Calculate Z-scores for light_intensity\n",
        "z_scores_dataset = zscore(dataset['light_intensity'])\n",
        "# Identify outliers based on Z-score threshold\n",
        "dataset_outliers =  np.where(np.abs(z_scores_dataset) > threshold)\n",
        "#print(\"Outliers identified in dataset:\", dataset.iloc[dataset_outliers[0]])\n",
        "# Replace outliers with NaN\n",
        "dataset.loc[dataset_outliers[0], 'light_intensity'] = np.nan\n",
        "# Interpolate to fill NaN values (default is linear, but you can specify other methods)\n",
        "dataset['light_intensity'] = dataset['light_intensity'].interpolate(method='linear')\n",
        "# Fill any remaining NaNs if needed\n",
        "dataset['light_intensity'] = dataset['light_intensity'].ffill() # or use 'bfill', 'mean', etc.\n",
        "\n",
        "# Calculate Z-scores for uv_index\n",
        "z_scores_dataset = zscore(dataset['uv_index'])\n",
        "# Identify outliers based on Z-score threshold\n",
        "dataset_outliers =  np.where(np.abs(z_scores_dataset) > threshold)\n",
        "#print(\"Outliers identified in dataset:\", dataset.iloc[dataset_outliers[0]])\n",
        "# Replace outliers with NaN\n",
        "dataset.loc[dataset_outliers[0], 'uv_index'] = np.nan\n",
        "# Interpolate to fill NaN values (default is linear, but you can specify other methods)\n",
        "dataset['uv_index'] = dataset['uv_index'].interpolate(method='linear')\n",
        "# Fill any remaining NaNs if needed\n",
        "dataset['uv_index'] = dataset['uv_index'].ffill() # or use 'bfill', 'mean', etc.\n",
        "\n",
        "# Remove outliers from the dataset\n",
        "#dataset = dataset[(np.abs(z_scores_dataset) <= threshold)]\n",
        "\n",
        "print(dataset.shape)"
      ],
      "metadata": {
        "colab": {
          "base_uri": "https://localhost:8080/"
        },
        "id": "qfzdCIL9mEBv",
        "outputId": "688ed4c2-476e-40bb-b64a-d41d7afe5317"
      },
      "execution_count": 51,
      "outputs": [
        {
          "output_type": "stream",
          "name": "stdout",
          "text": [
            "(119338, 9)\n"
          ]
        }
      ]
    },
    {
      "cell_type": "code",
      "source": [
        "# Find gaps in the timedata\n",
        "# Create a complete time index from min to max with 5-minute frequency\n",
        "dataset_complete_time_index = pd.date_range(start=dataset['date'].min(), end=dataset['date'].max(), freq='5min')\n",
        "\n",
        "# Reindex the dataset with the complete time index\n",
        "dataset = dataset.set_index('date').reindex(dataset_complete_time_index)\n",
        "\n",
        "# Reset index to bring 'date' back as a column\n",
        "dataset.reset_index(inplace=True)\n",
        "dataset.rename(columns={'index': 'date'}, inplace=True)\n",
        "\n",
        "# Fill the NaN values using forward fill and linear interpolation\n",
        "dataset['air_temperature'] = dataset['air_temperature'].interpolate(method='linear')\n",
        "dataset['air_temperature'] = dataset['air_temperature'].ffill()\n",
        "dataset['air_humidity'] = dataset['air_humidity'].interpolate(method='linear')\n",
        "dataset['air_humidity'] = dataset['air_humidity'].ffill()\n",
        "dataset['light_intensity'] = dataset['light_intensity'].interpolate(method='linear')\n",
        "dataset['light_intensity'] = dataset['light_intensity'].ffill()\n",
        "dataset['uv_index'] = dataset['uv_index'].interpolate(method='linear')\n",
        "dataset['uv_index'] = dataset['uv_index'].ffill()\n",
        "dataset['wind_speed'] = dataset['wind_speed'].interpolate(method='linear')\n",
        "dataset['wind_speed'] = dataset['wind_speed'].ffill()\n",
        "dataset['wind_direction'] = dataset['wind_direction'].interpolate(method='linear')\n",
        "dataset['wind_direction'] = dataset['wind_direction'].ffill()\n",
        "dataset['rain_gauge'] = dataset['rain_gauge'].interpolate(method='linear')\n",
        "dataset['rain_gauge'] = dataset['rain_gauge'].ffill()\n",
        "dataset['barometric_pressure'] = dataset['barometric_pressure'].interpolate(method='linear')\n",
        "dataset['barometric_pressure'] = dataset['barometric_pressure'].ffill()\n",
        "\n",
        "print(dataset.shape)\n"
      ],
      "metadata": {
        "colab": {
          "base_uri": "https://localhost:8080/"
        },
        "id": "hZRRxZ3nmyL2",
        "outputId": "07b90dff-d5cc-4abe-8b2c-080982139f1f"
      },
      "execution_count": 52,
      "outputs": [
        {
          "output_type": "stream",
          "name": "stdout",
          "text": [
            "(120879, 9)\n"
          ]
        }
      ]
    },
    {
      "cell_type": "code",
      "source": [
        "# Set time as index\n",
        "dataset.set_index('date', inplace=True)\n",
        "values = dataset[['air_temperature','air_humidity','light_intensity','uv_index','wind_speed','wind_direction','rain_gauge','barometric_pressure']].values\n",
        "print(dataset.shape)"
      ],
      "metadata": {
        "colab": {
          "base_uri": "https://localhost:8080/"
        },
        "id": "FW49T7F0p9Y7",
        "outputId": "9c74fcdb-b687-42b2-fb8f-b14704ce5293"
      },
      "execution_count": 53,
      "outputs": [
        {
          "output_type": "stream",
          "name": "stdout",
          "text": [
            "(120879, 8)\n"
          ]
        }
      ]
    }
  ]
}