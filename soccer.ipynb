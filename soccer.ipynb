{
  "nbformat": 4,
  "nbformat_minor": 0,
  "metadata": {
    "colab": {
      "provenance": [],
      "authorship_tag": "ABX9TyNV5XR2XNENfaIQ6RBs6TRU",
      "include_colab_link": true
    },
    "kernelspec": {
      "name": "python3",
      "display_name": "Python 3"
    },
    "language_info": {
      "name": "python"
    }
  },
  "cells": [
    {
      "cell_type": "markdown",
      "metadata": {
        "id": "view-in-github",
        "colab_type": "text"
      },
      "source": [
        "<a href=\"https://colab.research.google.com/github/miguelcasadinho/colab/blob/main/soccer.ipynb\" target=\"_parent\"><img src=\"https://colab.research.google.com/assets/colab-badge.svg\" alt=\"Open In Colab\"/></a>"
      ]
    },
    {
      "cell_type": "markdown",
      "source": [
        "Data cleaning"
      ],
      "metadata": {
        "id": "37mqzqCUqOaq"
      }
    },
    {
      "cell_type": "code",
      "source": [
        "# Import the libraries\n",
        "import numpy as np\n",
        "import pandas as pd"
      ],
      "metadata": {
        "id": "G2NF9EkWqPLa"
      },
      "execution_count": 24,
      "outputs": []
    },
    {
      "cell_type": "code",
      "source": [
        "\n",
        "# Import the dataset\n",
        "dataset = pd.read_csv('games.csv')\n",
        "\n",
        "# Filter by league\n",
        "dataset = dataset[dataset['competition_id'].isin(['ES1'])]\n",
        "\n",
        "# Ensure 'date' is in datetime format\n",
        "dataset['date'] = pd.to_datetime(dataset['date'])\n",
        "\n",
        "# Feature Engineering for Machine Learning\n",
        "dataset['year'] = dataset['date'].dt.year\n",
        "dataset['month'] = dataset['date'].dt.month\n",
        "dataset['day'] = dataset['date'].dt.day\n",
        "dataset['day_of_week'] = dataset['date'].dt.dayofweek  # Monday=0, Sunday=6\n",
        "\n",
        "# Keep only specific columns\n",
        "columns_to_keep = ['season','round','year','month','day','day_of_week','date','home_club_name','away_club_name','home_club_position','away_club_position','home_club_goals','away_club_goals']\n",
        "dataset = dataset[columns_to_keep]\n",
        "\n",
        "# Create a new column 'winner'\n",
        "dataset['winner'] = dataset.apply(\n",
        "    lambda row: row['home_club_name'] if row['home_club_goals'] > row['away_club_goals']\n",
        "    else row['away_club_name'] if row['home_club_goals'] < row['away_club_goals']\n",
        "    else 'draw', axis=1\n",
        ")\n",
        "\n",
        "# Clean the `round` column\n",
        "dataset['round'] = dataset['round'].str.split('.').str[0]\n",
        "\n",
        "# Sort by the 'date' column\n",
        "dataset = dataset.sort_values(by='date').reset_index(drop=True)\n",
        "\n",
        "# Drop the date column\n",
        "dataset.drop('date', axis=1, inplace=True)\n",
        "\n",
        "print(dataset.shape)"
      ],
      "metadata": {
        "colab": {
          "base_uri": "https://localhost:8080/"
        },
        "id": "iwrzNhgQqSH1",
        "outputId": "74312938-4db3-411b-b6cb-8dcf40c89a0e"
      },
      "execution_count": 39,
      "outputs": [
        {
          "output_type": "stream",
          "name": "stdout",
          "text": [
            "(4709, 13)\n"
          ]
        }
      ]
    },
    {
      "cell_type": "code",
      "source": [
        "# Handling rows with NaN values\n",
        "# Identify rows with NaN values\n",
        "dataset_rows_with_nan = dataset[dataset.isnull().any(axis=1)]\n",
        "print(\"Rows with NaN in dataset:\", dataset_rows_with_nan)\n",
        "\n",
        "# Deleting rows with NaN values\n",
        "#dataset.dropna(inplace=True)\n",
        "\n",
        "#print(dataset.shape)"
      ],
      "metadata": {
        "colab": {
          "base_uri": "https://localhost:8080/"
        },
        "id": "ILBiKsJYzo0s",
        "outputId": "59d14892-3345-48cf-f849-478f298cb232"
      },
      "execution_count": 27,
      "outputs": [
        {
          "output_type": "stream",
          "name": "stdout",
          "text": [
            "Rows with NaN in dataset: Empty DataFrame\n",
            "Columns: [season, round, year, month, home_club_name, away_club_name, home_club_position, away_club_position, home_club_goals, away_club_goals, winner]\n",
            "Index: []\n"
          ]
        }
      ]
    },
    {
      "cell_type": "code",
      "source": [
        "# Part 1 - Data Preprocessing\n",
        "#Feature scaling\n",
        "sc = MinMaxScaler(feature_range = (0, 1))\n",
        "\n",
        "\n",
        "\n",
        "X = dataset.iloc[:,:-1].values\n",
        "y = dataset.iloc[:,-1].values\n",
        "#print(X)\n",
        "#print(y)\n",
        "\n",
        "# One Hot Encoding the \"home_club_name\", \"away_club_name\" columns\n",
        "from sklearn.compose import ColumnTransformer # type: ignore\n",
        "from sklearn.preprocessing import OneHotEncoder # type: ignore\n",
        "ct = ColumnTransformer(transformers=[('encoder', OneHotEncoder(), [4, 5])], remainder='passthrough')\n",
        "X = np.array(ct.fit_transform(X))\n",
        "print(X)\n"
      ],
      "metadata": {
        "colab": {
          "base_uri": "https://localhost:8080/"
        },
        "id": "KrrOaIKf1ekx",
        "outputId": "4bc0c68d-471b-4a2c-b419-df72d1ee42b4"
      },
      "execution_count": 34,
      "outputs": [
        {
          "output_type": "stream",
          "name": "stdout",
          "text": [
            "  (0, 26)\t1.0\n",
            "  (0, 42)\t1.0\n",
            "  (0, 64)\t2012.0\n",
            "  (0, 65)\t1.0\n",
            "  (0, 66)\t2012.0\n",
            "  (0, 67)\t8.0\n",
            "  (0, 68)\t5.0\n",
            "  (0, 69)\t14.0\n",
            "  (0, 70)\t2.0\n",
            "  (0, 71)\t1.0\n",
            "  (1, 18)\t1.0\n",
            "  (1, 55)\t1.0\n",
            "  (1, 64)\t2012.0\n",
            "  (1, 65)\t1.0\n",
            "  (1, 66)\t2012.0\n",
            "  (1, 67)\t8.0\n",
            "  (1, 68)\t4.0\n",
            "  (1, 69)\t13.0\n",
            "  (1, 70)\t2.0\n",
            "  (1, 71)\t1.0\n",
            "  (2, 17)\t1.0\n",
            "  (2, 46)\t1.0\n",
            "  (2, 64)\t2012.0\n",
            "  (2, 65)\t1.0\n",
            "  (2, 66)\t2012.0\n",
            "  :\t:\n",
            "  (4706, 67)\t12.0\n",
            "  (4706, 68)\t11.0\n",
            "  (4706, 69)\t7.0\n",
            "  (4706, 70)\t1.0\n",
            "  (4706, 71)\t1.0\n",
            "  (4707, 18)\t1.0\n",
            "  (4707, 41)\t1.0\n",
            "  (4707, 64)\t2024.0\n",
            "  (4707, 65)\t19.0\n",
            "  (4707, 66)\t2024.0\n",
            "  (4707, 67)\t12.0\n",
            "  (4707, 68)\t6.0\n",
            "  (4707, 69)\t1.0\n",
            "  (4707, 70)\t1.0\n",
            "  (4707, 71)\t5.0\n",
            "  (4708, 0)\t1.0\n",
            "  (4708, 51)\t1.0\n",
            "  (4708, 64)\t2024.0\n",
            "  (4708, 65)\t19.0\n",
            "  (4708, 66)\t2024.0\n",
            "  (4708, 67)\t12.0\n",
            "  (4708, 68)\t4.0\n",
            "  (4708, 69)\t2.0\n",
            "  (4708, 70)\t2.0\n",
            "  (4708, 71)\t1.0\n"
          ]
        }
      ]
    },
    {
      "cell_type": "code",
      "source": [
        "# Save to csv\n",
        "dataset.to_csv('dataset.csv')"
      ],
      "metadata": {
        "id": "9NbnrflnyKUD"
      },
      "execution_count": 11,
      "outputs": []
    }
  ]
}