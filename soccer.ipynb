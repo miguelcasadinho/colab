{
  "nbformat": 4,
  "nbformat_minor": 0,
  "metadata": {
    "colab": {
      "provenance": [],
      "authorship_tag": "ABX9TyNLOTUjqGnNldm8oxU4LJxg",
      "include_colab_link": true
    },
    "kernelspec": {
      "name": "python3",
      "display_name": "Python 3"
    },
    "language_info": {
      "name": "python"
    }
  },
  "cells": [
    {
      "cell_type": "markdown",
      "metadata": {
        "id": "view-in-github",
        "colab_type": "text"
      },
      "source": [
        "<a href=\"https://colab.research.google.com/github/miguelcasadinho/colab/blob/main/soccer.ipynb\" target=\"_parent\"><img src=\"https://colab.research.google.com/assets/colab-badge.svg\" alt=\"Open In Colab\"/></a>"
      ]
    },
    {
      "cell_type": "code",
      "execution_count": null,
      "metadata": {
        "id": "eTHZ0H0zqCaN"
      },
      "outputs": [],
      "source": []
    },
    {
      "cell_type": "markdown",
      "source": [
        "Data cleaning"
      ],
      "metadata": {
        "id": "37mqzqCUqOaq"
      }
    },
    {
      "cell_type": "code",
      "source": [
        "# Import the libraries\n",
        "import numpy as np\n",
        "import pandas as pd"
      ],
      "metadata": {
        "id": "G2NF9EkWqPLa"
      },
      "execution_count": 1,
      "outputs": []
    },
    {
      "cell_type": "code",
      "source": [
        "\n",
        "# Import the dataset\n",
        "dataset = pd.read_csv('games.csv')\n",
        "\n",
        "# Filter by league\n",
        "dataset = dataset[dataset['competition_id'].isin(['ES1'])]\n",
        "\n",
        "# Keep only specific columns\n",
        "columns_to_keep = ['season','round','date','home_club_name','away_club_name','home_club_position','away_club_position','home_club_goals','away_club_goals']\n",
        "dataset = dataset[columns_to_keep]\n",
        "\n",
        "# Create a new column 'winner'\n",
        "dataset['winner'] = dataset.apply(\n",
        "    lambda row: row['home_club_name'] if row['home_club_goals'] > row['away_club_goals']\n",
        "    else row['away_club_name'] if row['home_club_goals'] < row['away_club_goals']\n",
        "    else 'draw', axis=1\n",
        ")\n",
        "\n",
        "\n",
        "print(dataset.head)"
      ],
      "metadata": {
        "colab": {
          "base_uri": "https://localhost:8080/"
        },
        "id": "iwrzNhgQqSH1",
        "outputId": "3e2fd721-6936-45b4-cd9d-796c070a9c95"
      },
      "execution_count": 6,
      "outputs": [
        {
          "output_type": "stream",
          "name": "stdout",
          "text": [
            "<bound method NDFrame.head of        season         round        date                       home_club_name  \\\n",
            "75       2013   4. Matchday  2013-09-16                 Athletic Club Bilbao   \n",
            "76       2013  25. Matchday  2014-02-23     Valencia Club de Fútbol S. A. D.   \n",
            "77       2013   9. Matchday  2013-10-21     Real Club Celta de Vigo S. A. D.   \n",
            "78       2013  18. Matchday  2014-01-04     Valencia Club de Fútbol S. A. D.   \n",
            "79       2013  14. Matchday  2013-11-23       Club Atlético de Madrid S.A.D.   \n",
            "...       ...           ...         ...                                  ...   \n",
            "71810    2018   1. Matchday  2018-08-19      Rayo Vallecano de Madrid S.A.D.   \n",
            "71856    2023  18. Matchday  2023-12-21                             Cádiz CF   \n",
            "71857    2023  12. Matchday  2023-11-04     Real Club Celta de Vigo S. A. D.   \n",
            "71864    2022  25. Matchday  2023-03-12  Real Club Deportivo Mallorca S.A.D.   \n",
            "71866    2023  33. Matchday  2024-04-28     Villarreal Club de Fútbol S.A.D.   \n",
            "\n",
            "                                away_club_name  home_club_position  \\\n",
            "75            Real Club Celta de Vigo S. A. D.                 5.0   \n",
            "76                                  Granada CF                 7.0   \n",
            "77                                  Levante UD                19.0   \n",
            "78                                  Levante UD                 8.0   \n",
            "79     Getafe Club de Fútbol S.A.D. Team Dubai                 2.0   \n",
            "...                                        ...                 ...   \n",
            "71810               Sevilla Fútbol Club S.A.D.                18.0   \n",
            "71856           Real Sociedad de Fútbol S.A.D.                17.0   \n",
            "71857               Sevilla Fútbol Club S.A.D.                18.0   \n",
            "71864           Real Sociedad de Fútbol S.A.D.                10.0   \n",
            "71866          Rayo Vallecano de Madrid S.A.D.                 9.0   \n",
            "\n",
            "       away_club_position  home_club_goals  away_club_goals  \\\n",
            "75                    9.0                3                2   \n",
            "76                   13.0                2                1   \n",
            "77                    9.0                0                1   \n",
            "78                   13.0                2                0   \n",
            "79                    7.0                7                0   \n",
            "...                   ...              ...              ...   \n",
            "71810                 1.0                1                4   \n",
            "71856                 6.0                0                0   \n",
            "71857                15.0                1                1   \n",
            "71864                 4.0                1                1   \n",
            "71866                15.0                3                0   \n",
            "\n",
            "                                 winner  \n",
            "75                 Athletic Club Bilbao  \n",
            "76     Valencia Club de Fútbol S. A. D.  \n",
            "77                           Levante UD  \n",
            "78     Valencia Club de Fútbol S. A. D.  \n",
            "79       Club Atlético de Madrid S.A.D.  \n",
            "...                                 ...  \n",
            "71810        Sevilla Fútbol Club S.A.D.  \n",
            "71856                              draw  \n",
            "71857                              draw  \n",
            "71864                              draw  \n",
            "71866  Villarreal Club de Fútbol S.A.D.  \n",
            "\n",
            "[4709 rows x 10 columns]>\n"
          ]
        }
      ]
    }
  ]
}