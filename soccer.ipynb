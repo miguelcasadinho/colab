{
  "nbformat": 4,
  "nbformat_minor": 0,
  "metadata": {
    "colab": {
      "provenance": [],
      "authorship_tag": "ABX9TyPYdYIDESpctxMKV7BYrATO",
      "include_colab_link": true
    },
    "kernelspec": {
      "name": "python3",
      "display_name": "Python 3"
    },
    "language_info": {
      "name": "python"
    }
  },
  "cells": [
    {
      "cell_type": "markdown",
      "metadata": {
        "id": "view-in-github",
        "colab_type": "text"
      },
      "source": [
        "<a href=\"https://colab.research.google.com/github/miguelcasadinho/colab/blob/main/soccer.ipynb\" target=\"_parent\"><img src=\"https://colab.research.google.com/assets/colab-badge.svg\" alt=\"Open In Colab\"/></a>"
      ]
    },
    {
      "cell_type": "markdown",
      "source": [
        "Data cleaning"
      ],
      "metadata": {
        "id": "37mqzqCUqOaq"
      }
    },
    {
      "cell_type": "code",
      "source": [
        "# Import the libraries\n",
        "import numpy as np\n",
        "import pandas as pd"
      ],
      "metadata": {
        "id": "G2NF9EkWqPLa"
      },
      "execution_count": 1,
      "outputs": []
    },
    {
      "cell_type": "code",
      "source": [
        "\n",
        "# Import the dataset\n",
        "dataset = pd.read_csv('games.csv')\n",
        "\n",
        "# Filter by league\n",
        "dataset = dataset[dataset['competition_id'].isin(['ES1'])]\n",
        "\n",
        "# Keep only specific columns\n",
        "columns_to_keep = ['season','round','date','home_club_name','away_club_name','home_club_position','away_club_position','home_club_goals','away_club_goals']\n",
        "dataset = dataset[columns_to_keep]\n",
        "\n",
        "# Create a new column 'winner'\n",
        "dataset['winner'] = dataset.apply(\n",
        "    lambda row: row['home_club_name'] if row['home_club_goals'] > row['away_club_goals']\n",
        "    else row['away_club_name'] if row['home_club_goals'] < row['away_club_goals']\n",
        "    else 'draw', axis=1\n",
        ")\n",
        "\n",
        "# Clean the `round` column\n",
        "dataset['round'] = dataset['round'].str.split('.').str[0]\n",
        "\n",
        "# Ensure 'date' is in datetime format\n",
        "dataset['date'] = pd.to_datetime(dataset['date'])\n",
        "\n",
        "# Sort by the 'date' column\n",
        "dataset = dataset.sort_values(by='date').reset_index(drop=True)\n",
        "\n",
        "print(dataset.shape)"
      ],
      "metadata": {
        "colab": {
          "base_uri": "https://localhost:8080/"
        },
        "id": "iwrzNhgQqSH1",
        "outputId": "a013eecb-7219-4406-a099-a526ba168dc5"
      },
      "execution_count": 10,
      "outputs": [
        {
          "output_type": "stream",
          "name": "stdout",
          "text": [
            "(4709, 10)\n"
          ]
        }
      ]
    },
    {
      "cell_type": "code",
      "source": [
        "# Handling rows with NaN values\n",
        "# Identify rows with NaN values\n",
        "dataset_rows_with_nan = dataset[dataset.isnull().any(axis=1)]\n",
        "print(\"Rows with NaN in dataset:\", dataset_rows_with_nan)\n",
        "\n",
        "# Deleting rows with NaN values\n",
        "#dataset.dropna(inplace=True)\n",
        "\n",
        "#print(dataset.shape)"
      ],
      "metadata": {
        "colab": {
          "base_uri": "https://localhost:8080/"
        },
        "id": "ILBiKsJYzo0s",
        "outputId": "499fde87-8d55-4ca5-a8dd-ac57453e4bd9"
      },
      "execution_count": 6,
      "outputs": [
        {
          "output_type": "stream",
          "name": "stdout",
          "text": [
            "Rows with NaN in dataset: Empty DataFrame\n",
            "Columns: [season, round, date, home_club_name, away_club_name, home_club_position, away_club_position, home_club_goals, away_club_goals, winner]\n",
            "Index: []\n"
          ]
        }
      ]
    },
    {
      "cell_type": "code",
      "source": [
        "# Part 1 - Data Preprocessing\n",
        "X = dataset.iloc[:,:-1].values\n",
        "y = dataset.iloc[:,-1].values\n",
        "#print(X)\n",
        "#print(y)"
      ],
      "metadata": {
        "colab": {
          "base_uri": "https://localhost:8080/"
        },
        "id": "KrrOaIKf1ekx",
        "outputId": "ecbf8718-372c-421f-c146-83559744cc7a"
      },
      "execution_count": 12,
      "outputs": [
        {
          "output_type": "stream",
          "name": "stdout",
          "text": [
            "[[2012 '1' Timestamp('2012-08-18 00:00:00') ... 14.0 2 1]\n",
            " [2012 '1' Timestamp('2012-08-18 00:00:00') ... 13.0 2 1]\n",
            " [2012 '1' Timestamp('2012-08-18 00:00:00') ... 8.0 0 1]\n",
            " ...\n",
            " [2024 '15' Timestamp('2024-12-02 00:00:00') ... 7.0 1 1]\n",
            " [2024 '19' Timestamp('2024-12-03 00:00:00') ... 1.0 1 5]\n",
            " [2024 '19' Timestamp('2024-12-04 00:00:00') ... 2.0 2 1]]\n"
          ]
        }
      ]
    },
    {
      "cell_type": "code",
      "source": [
        "# Save to csv\n",
        "dataset.to_csv('dataset.csv')"
      ],
      "metadata": {
        "id": "9NbnrflnyKUD"
      },
      "execution_count": 11,
      "outputs": []
    }
  ]
}