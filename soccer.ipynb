{
  "nbformat": 4,
  "nbformat_minor": 0,
  "metadata": {
    "colab": {
      "provenance": [],
      "authorship_tag": "ABX9TyPEQ0mTT/uVrtyNAFjd3rRA",
      "include_colab_link": true
    },
    "kernelspec": {
      "name": "python3",
      "display_name": "Python 3"
    },
    "language_info": {
      "name": "python"
    }
  },
  "cells": [
    {
      "cell_type": "markdown",
      "metadata": {
        "id": "view-in-github",
        "colab_type": "text"
      },
      "source": [
        "<a href=\"https://colab.research.google.com/github/miguelcasadinho/colab/blob/main/soccer.ipynb\" target=\"_parent\"><img src=\"https://colab.research.google.com/assets/colab-badge.svg\" alt=\"Open In Colab\"/></a>"
      ]
    },
    {
      "cell_type": "markdown",
      "source": [
        "Data cleaning"
      ],
      "metadata": {
        "id": "37mqzqCUqOaq"
      }
    },
    {
      "cell_type": "code",
      "source": [
        "# Import the libraries\n",
        "import numpy as np\n",
        "import pandas as pd"
      ],
      "metadata": {
        "id": "G2NF9EkWqPLa"
      },
      "execution_count": 79,
      "outputs": []
    },
    {
      "cell_type": "code",
      "source": [
        "\n",
        "# Import the dataset\n",
        "dataset = pd.read_csv('games.csv')\n",
        "\n",
        "# Filter by league\n",
        "dataset = dataset[dataset['competition_id'].isin(['ES1'])]\n",
        "\n",
        "# Ensure 'date' is in datetime format\n",
        "dataset['date'] = pd.to_datetime(dataset['date'])\n",
        "\n",
        "# Feature Engineering for Machine Learning\n",
        "dataset['year'] = dataset['date'].dt.year\n",
        "dataset['month'] = dataset['date'].dt.month\n",
        "dataset['day'] = dataset['date'].dt.day\n",
        "dataset['day_of_week'] = dataset['date'].dt.dayofweek  # Monday=0, Sunday=6\n",
        "\n",
        "# Keep only specific columns\n",
        "columns_to_keep = ['season','round','year','month','day','day_of_week','date','home_club_name','away_club_name','home_club_position','away_club_position','home_club_goals','away_club_goals']\n",
        "dataset = dataset[columns_to_keep]\n",
        "\n",
        "# Create a new column 'winner'\n",
        "dataset['winner'] = dataset.apply(\n",
        "    lambda row: row['home_club_name'] if row['home_club_goals'] > row['away_club_goals']\n",
        "    else row['away_club_name'] if row['home_club_goals'] < row['away_club_goals']\n",
        "    else 'draw', axis=1\n",
        ")\n",
        "\n",
        "# Clean the `round` column\n",
        "dataset['round'] = dataset['round'].str.split('.').str[0]\n",
        "\n",
        "# Sort by the 'date' column\n",
        "dataset = dataset.sort_values(by='date').reset_index(drop=True)\n",
        "\n",
        "# Drop the date column\n",
        "dataset.drop('date', axis=1, inplace=True)\n",
        "\n",
        "print(dataset[:5])\n",
        "print(dataset.shape)"
      ],
      "metadata": {
        "colab": {
          "base_uri": "https://localhost:8080/"
        },
        "id": "iwrzNhgQqSH1",
        "outputId": "39f183e4-08e5-4e9d-927c-0adbd0453298"
      },
      "execution_count": 80,
      "outputs": [
        {
          "output_type": "stream",
          "name": "stdout",
          "text": [
            "   season round  year  month  day  day_of_week  \\\n",
            "0    2012     1  2012      8   18            5   \n",
            "1    2012     1  2012      8   18            5   \n",
            "2    2012     1  2012      8   18            5   \n",
            "3    2012     1  2012      8   19            6   \n",
            "4    2012     1  2012      8   19            6   \n",
            "\n",
            "                        home_club_name  \\\n",
            "0           Sevilla Fútbol Club S.A.D.   \n",
            "1  Real Club Deportivo Mallorca S.A.D.   \n",
            "2     Real Club Celta de Vigo S. A. D.   \n",
            "3                Futbol Club Barcelona   \n",
            "4                           Levante UD   \n",
            "\n",
            "                                     away_club_name  home_club_position  \\\n",
            "0           Getafe Club de Fútbol S.A.D. Team Dubai                 5.0   \n",
            "1  Reial Club Deportiu Espanyol de Barcelona S.A.D.                 4.0   \n",
            "2                                         Málaga CF                16.0   \n",
            "3                    Real Sociedad de Fútbol S.A.D.                 1.0   \n",
            "4                    Club Atlético de Madrid S.A.D.                12.0   \n",
            "\n",
            "   away_club_position  home_club_goals  away_club_goals  \\\n",
            "0                14.0                2                1   \n",
            "1                13.0                2                1   \n",
            "2                 8.0                0                1   \n",
            "3                20.0                5                1   \n",
            "4                 9.0                1                1   \n",
            "\n",
            "                                winner  \n",
            "0           Sevilla Fútbol Club S.A.D.  \n",
            "1  Real Club Deportivo Mallorca S.A.D.  \n",
            "2                            Málaga CF  \n",
            "3                Futbol Club Barcelona  \n",
            "4                                 draw  \n",
            "(4709, 13)\n"
          ]
        }
      ]
    },
    {
      "cell_type": "code",
      "source": [
        "# Handling rows with NaN values\n",
        "# Identify rows with NaN values\n",
        "#dataset_rows_with_nan = dataset[dataset.isnull().any(axis=1)]\n",
        "#print(\"Rows with NaN in dataset:\", dataset_rows_with_nan)\n",
        "\n",
        "# Deleting rows with NaN values\n",
        "#dataset.dropna(inplace=True)\n",
        "\n",
        "#print(dataset.shape)"
      ],
      "metadata": {
        "id": "ILBiKsJYzo0s"
      },
      "execution_count": 49,
      "outputs": []
    },
    {
      "cell_type": "code",
      "source": [
        "# Part 1 - Data Preprocessing\n",
        "X = dataset.iloc[:,:-1].values\n",
        "y = dataset.iloc[:,-1].values\n",
        "print(X)\n",
        "#print(y)\n",
        "\n",
        "#Feature scaling\n",
        "from sklearn.preprocessing import MinMaxScaler\n",
        "# Scale 'year','month','day','day_of_week','home_club_position','away_club_position','home_club_goals','away_club_goals'\n",
        "columns_to_scale = [2,3,4,5,8,9,10,11]\n",
        "# Initialize the scaler\n",
        "sc = MinMaxScaler(feature_range=(0, 1))\n",
        "# Apply scaling\n",
        "X[:,columns_to_scale] = sc.fit_transform(X[:,columns_to_scale])\n",
        "#print(X)\n",
        "\n",
        "# Encode season, round, and target variable winner\n",
        "from sklearn.preprocessing import LabelEncoder\n",
        "# Define columns to encode\n",
        "columns_to_encode = [0, 1,]  # Season, Round\n",
        "\n",
        "# Initialize LabelEncoder\n",
        "le = LabelEncoder()\n",
        "\n",
        "# Encode each column\n",
        "for col in columns_to_encode:\n",
        "    X[:, col] = le.fit_transform(X[:, col])\n",
        "\n",
        "# Encode the target variable 'winner' (y)\n",
        "y = le.fit_transform(y)\n",
        "#print(X)\n",
        "#print(y)\n",
        "\n",
        "# One Hot Encoding the \"home_club_name\", \"away_club_name\" columns\n",
        "from sklearn.compose import ColumnTransformer # type: ignore\n",
        "from sklearn.preprocessing import OneHotEncoder # type: ignore\n",
        "# Indices for 'home_club_name' and 'away_club_name'\n",
        "# These indices need to be updated since we've already label encoded them\n",
        "one_hot_columns = [7, 8]\n",
        "\n",
        "# Update OneHotEncoder to output dense arrays\n",
        "one_hot_encoder = OneHotEncoder(sparse_output=False)\n",
        "\n",
        "ct = ColumnTransformer(\n",
        "    transformers=[('onehot', one_hot_encoder, one_hot_columns),\n",
        "                  ('scaler', MinMaxScaler(), columns_to_scale)],\n",
        "    remainder='passthrough'\n",
        ")\n",
        "\n",
        "X = np.array(ct.fit_transform(X))\n",
        "\n",
        "\n"
      ],
      "metadata": {
        "colab": {
          "base_uri": "https://localhost:8080/"
        },
        "id": "qIISR8TIiUJF",
        "outputId": "6ec9c673-3e57-4e0a-f591-aeba71f60326"
      },
      "execution_count": 86,
      "outputs": [
        {
          "output_type": "stream",
          "name": "stdout",
          "text": [
            "[[2012 '1' 2012 ... 14.0 2 1]\n",
            " [2012 '1' 2012 ... 13.0 2 1]\n",
            " [2012 '1' 2012 ... 8.0 0 1]\n",
            " ...\n",
            " [2024 '15' 2024 ... 7.0 1 1]\n",
            " [2024 '19' 2024 ... 1.0 1 5]\n",
            " [2024 '19' 2024 ... 2.0 2 1]]\n"
          ]
        }
      ]
    },
    {
      "cell_type": "code",
      "source": [
        "# Save to csv\n",
        "dataset.to_csv('dataset.csv')"
      ],
      "metadata": {
        "id": "9NbnrflnyKUD"
      },
      "execution_count": 11,
      "outputs": []
    }
  ]
}