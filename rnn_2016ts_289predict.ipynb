{
  "nbformat": 4,
  "nbformat_minor": 0,
  "metadata": {
    "colab": {
      "provenance": [],
      "gpuType": "T4",
      "authorship_tag": "ABX9TyO2qaSvqvP4Na9axS+rsH7g",
      "include_colab_link": true
    },
    "kernelspec": {
      "name": "python3",
      "display_name": "Python 3"
    },
    "language_info": {
      "name": "python"
    },
    "accelerator": "GPU"
  },
  "cells": [
    {
      "cell_type": "markdown",
      "metadata": {
        "id": "view-in-github",
        "colab_type": "text"
      },
      "source": [
        "<a href=\"https://colab.research.google.com/github/miguelcasadinho/colab/blob/main/rnn_2016ts_289predict.ipynb\" target=\"_parent\"><img src=\"https://colab.research.google.com/assets/colab-badge.svg\" alt=\"Open In Colab\"/></a>"
      ]
    },
    {
      "cell_type": "markdown",
      "source": [
        "Part 1 - Data cleaning"
      ],
      "metadata": {
        "id": "JTuTyPk0cpH_"
      }
    },
    {
      "cell_type": "code",
      "source": [
        "# Import the libraries\n",
        "import numpy as np\n",
        "import pandas as pd\n",
        "import matplotlib.pyplot as plt\n",
        "from datetime import datetime, timedelta"
      ],
      "metadata": {
        "id": "DtYCzjr82wH5"
      },
      "execution_count": 1,
      "outputs": []
    },
    {
      "cell_type": "markdown",
      "source": [
        "Import the dataset"
      ],
      "metadata": {
        "id": "bz3qRjTN3AxM"
      }
    },
    {
      "cell_type": "code",
      "source": [
        "dataset = pd.read_csv('za1_train.csv')\n",
        "dataset_test = pd.read_csv('za1_test.csv')\n",
        "print(dataset.shape)\n",
        "print(dataset_test.shape)"
      ],
      "metadata": {
        "id": "gqOcESz_3FE_",
        "colab": {
          "base_uri": "https://localhost:8080/"
        },
        "outputId": "51d02b92-241c-41a1-d076-fb85d9f2de03"
      },
      "execution_count": 2,
      "outputs": [
        {
          "output_type": "stream",
          "name": "stdout",
          "text": [
            "(109391, 2)\n",
            "(373, 2)\n"
          ]
        }
      ]
    },
    {
      "cell_type": "markdown",
      "source": [
        "Arredondar para o múltiplo de 5 minutos mais próximo"
      ],
      "metadata": {
        "id": "I6S5AfIWgftL"
      }
    },
    {
      "cell_type": "code",
      "source": [
        "def round_to_nearest_5_minutes(timestamp):\n",
        "    minutes = timestamp.minute\n",
        "    nearest_5 = 5 * round(minutes / 5)\n",
        "\n",
        "    if nearest_5 == 60:\n",
        "        # Verifique se a hora é 23 e, se for, ajuste para o próximo dia\n",
        "        if timestamp.hour == 23:\n",
        "            return timestamp.replace(hour=0, minute=0, second=0, microsecond=0) + timedelta(days=1)\n",
        "        else:\n",
        "            return timestamp.replace(hour=timestamp.hour + 1, minute=0, second=0, microsecond=0)\n",
        "    else:\n",
        "        return timestamp.replace(minute=nearest_5, second=0, microsecond=0)"
      ],
      "metadata": {
        "id": "ZwrjorxWgiBs"
      },
      "execution_count": 3,
      "outputs": []
    },
    {
      "cell_type": "code",
      "source": [
        "# Convert 'Time' column to datetime objects\n",
        "dataset['Time'] = pd.to_datetime(dataset['Time'])\n",
        "dataset_test['Time'] = pd.to_datetime(dataset_test['Time'])\n",
        "dataset['Time'] = dataset['Time'].apply(round_to_nearest_5_minutes)\n",
        "dataset_test['Time'] = dataset_test['Time'].apply(round_to_nearest_5_minutes)\n",
        "#print(dataset_test)\n",
        "print(dataset.shape)\n",
        "print(dataset_test.shape)"
      ],
      "metadata": {
        "id": "6SRXIPgYiZR_",
        "colab": {
          "base_uri": "https://localhost:8080/"
        },
        "outputId": "4d37000b-0973-46e1-e9f8-48d8ad509c2a"
      },
      "execution_count": 4,
      "outputs": [
        {
          "output_type": "stream",
          "name": "stdout",
          "text": [
            "(109391, 2)\n",
            "(373, 2)\n"
          ]
        }
      ]
    },
    {
      "cell_type": "markdown",
      "source": [
        "Handling rows with NaN values"
      ],
      "metadata": {
        "id": "TyNktbMYUG4q"
      }
    },
    {
      "cell_type": "code",
      "source": [
        "# Identify rows with NaN values\n",
        "dataset_rows_with_nan = dataset[dataset.isnull().any(axis=1)]\n",
        "#print(\"Rows with NaN in dataset:\", dataset_rows_with_nan)\n",
        "dataset_test_rows_with_nan = dataset[dataset.isnull().any(axis=1)]\n",
        "#print(\"Rows with NaN in dataset:\", dataset_test_rows_with_nan)\n",
        "\n",
        "# Deleting rows with NaN values\n",
        "dataset.dropna(inplace=True)\n",
        "dataset_test.dropna(inplace=True)\n",
        "\n",
        "print(dataset.shape)\n",
        "print(dataset_test.shape)"
      ],
      "metadata": {
        "id": "BLUwZDDyUXKA",
        "colab": {
          "base_uri": "https://localhost:8080/"
        },
        "outputId": "2393df9f-cd97-47bf-af8e-15f26f80b8ce"
      },
      "execution_count": 5,
      "outputs": [
        {
          "output_type": "stream",
          "name": "stdout",
          "text": [
            "(109391, 2)\n",
            "(373, 2)\n"
          ]
        }
      ]
    },
    {
      "cell_type": "markdown",
      "source": [
        "Handling duplicates timestamps"
      ],
      "metadata": {
        "id": "WiQw_fmWVW_Q"
      }
    },
    {
      "cell_type": "code",
      "source": [
        "dataset_duplicate_rows = dataset[dataset.duplicated(subset=['Time'])]\n",
        "#print(\"Number of duplicate rows in dataset:\", len(dataset_duplicate_rows))\n",
        "dataset_test_duplicate_rows = dataset_test[dataset_test.duplicated(subset=['Time'])]\n",
        "#print(\"Number of duplicate rows in dataset_test:\", len(dataset_test_duplicate_rows))\n",
        "# Remove the duplicate rows based on Time:\n",
        "dataset.drop_duplicates(subset=['Time'], inplace=True)\n",
        "dataset_test.drop_duplicates(subset=['Time'], inplace=True)\n",
        "\n",
        "print(dataset.shape)\n",
        "print(dataset_test.shape)\n"
      ],
      "metadata": {
        "id": "y5hT71wOVbfg",
        "colab": {
          "base_uri": "https://localhost:8080/"
        },
        "outputId": "d04b4713-4b40-4a2d-910f-462dbcfe80d4"
      },
      "execution_count": 6,
      "outputs": [
        {
          "output_type": "stream",
          "name": "stdout",
          "text": [
            "(84920, 2)\n",
            "(286, 2)\n"
          ]
        }
      ]
    },
    {
      "cell_type": "markdown",
      "source": [
        "Outlier detection and treatment using Z-score"
      ],
      "metadata": {
        "id": "0MmikMTUXIoh"
      }
    },
    {
      "cell_type": "code",
      "source": [
        "from scipy.stats import zscore\n",
        "# Calculate Z-scores for the dataset\n",
        "z_scores_dataset = zscore(dataset['Distribuído'])\n",
        "z_scores_dataset_test = zscore(dataset_test['Distribuído'])\n",
        "\n",
        "# Set the Z-score threshold (e.g., 5 standard deviations)\n",
        "threshold = 5\n",
        "\n",
        "# Identify outliers based on Z-score threshold\n",
        "dataset_outliers =  np.where(np.abs(z_scores_dataset) > threshold)\n",
        "#print(\"Outliers identified in dataset:\", dataset.iloc[dataset_outliers[0]])\n",
        "dataset_test_outliers =  np.where(np.abs(z_scores_dataset_test) > threshold)\n",
        "#print(\"Outliers identified in dataset_test:\", dataset_test.iloc[dataset_test_outliers[0]])\n",
        "\n",
        "# Remove outliers from the dataset\n",
        "dataset = dataset[(np.abs(z_scores_dataset) <= threshold)]\n",
        "dataset_test = dataset_test[(np.abs(z_scores_dataset_test) <= threshold)]\n",
        "\n",
        "print(dataset.shape)\n",
        "print(dataset_test.shape)"
      ],
      "metadata": {
        "id": "rVUO9zr4XPav",
        "colab": {
          "base_uri": "https://localhost:8080/"
        },
        "outputId": "1aff2622-64df-43d8-cb01-f23b5a06fd25"
      },
      "execution_count": 7,
      "outputs": [
        {
          "output_type": "stream",
          "name": "stdout",
          "text": [
            "(84920, 2)\n",
            "(286, 2)\n"
          ]
        }
      ]
    },
    {
      "cell_type": "markdown",
      "source": [
        "Find gaps in the timedata"
      ],
      "metadata": {
        "id": "aZ14RJRIY6yg"
      }
    },
    {
      "cell_type": "code",
      "source": [
        "# Create a complete time index from min to max with 5-minute frequency\n",
        "dataset_complete_time_index = pd.date_range(start=dataset['Time'].min(), end=dataset['Time'].max(), freq='5min')\n",
        "dataset_test_complete_time_index = pd.date_range(start=dataset_test['Time'].min(), end=dataset_test['Time'].max(), freq='5min')\n",
        "\n",
        "# Reindex the dataset with the complete time index\n",
        "dataset = dataset.set_index('Time').reindex(dataset_complete_time_index)\n",
        "dataset_test = dataset_test.set_index('Time').reindex(dataset_test_complete_time_index)\n",
        "\n",
        "# Reset index to bring 'Time' back as a column\n",
        "dataset.reset_index(inplace=True)\n",
        "dataset_test.reset_index(inplace=True)\n",
        "dataset.rename(columns={'index': 'Time'}, inplace=True)\n",
        "dataset_test.rename(columns={'index': 'Time'}, inplace=True)\n",
        "\n",
        "# Fill the NaN values in the 'Distribuído' column using forward fill and linear interpolation\n",
        "dataset['Distribuído'] = dataset['Distribuído'].ffill()  # Forward fill\n",
        "dataset['Distribuído'] = dataset['Distribuído'].interpolate(method='linear')  # Linear interpolation\n",
        "dataset_test['Distribuído'] = dataset_test['Distribuído'].ffill()  # Forward fill\n",
        "dataset_test['Distribuído'] = dataset_test['Distribuído'].interpolate(method='linear')  # Linear interpolation\n",
        "\n",
        "print(dataset.shape)\n",
        "print(dataset_test.shape)\n"
      ],
      "metadata": {
        "id": "1X1UVAXNZIwz",
        "colab": {
          "base_uri": "https://localhost:8080/"
        },
        "outputId": "2fd6cadb-1bbe-48a7-d551-2cc81f79da57"
      },
      "execution_count": 8,
      "outputs": [
        {
          "output_type": "stream",
          "name": "stdout",
          "text": [
            "(88704, 2)\n",
            "(289, 2)\n"
          ]
        }
      ]
    },
    {
      "cell_type": "markdown",
      "source": [
        "Set time as index and extract 'flow'"
      ],
      "metadata": {
        "id": "dDdwGzsnaiha"
      }
    },
    {
      "cell_type": "code",
      "source": [
        "dataset.set_index('Time', inplace=True)\n",
        "dataset_test.set_index('Time', inplace=True)\n",
        "values = dataset['Distribuído'].values\n",
        "values = dataset_test['Distribuído'].values\n",
        "print(dataset.shape)\n",
        "print(dataset_test.shape)"
      ],
      "metadata": {
        "id": "edcwwz0CansL",
        "colab": {
          "base_uri": "https://localhost:8080/"
        },
        "outputId": "e492b85b-70cb-4d58-ff40-ec19799c2288"
      },
      "execution_count": 9,
      "outputs": [
        {
          "output_type": "stream",
          "name": "stdout",
          "text": [
            "(88704, 1)\n",
            "(289, 1)\n"
          ]
        }
      ]
    },
    {
      "cell_type": "markdown",
      "source": [
        "Feature engineering (extract useful time features)"
      ],
      "metadata": {
        "id": "B93nO5gFa0mq"
      }
    },
    {
      "cell_type": "code",
      "source": [
        "dataset['Month'] = dataset.index.month\n",
        "dataset_test['Month'] = dataset_test.index.month\n",
        "dataset['day_of_month'] = dataset.index.day\n",
        "dataset_test['day_of_month'] = dataset_test.index.day\n",
        "dataset['day_of_week'] = dataset.index.dayofweek\n",
        "dataset_test['day_of_week'] = dataset_test.index.dayofweek\n",
        "dataset['Hour'] = dataset.index.hour\n",
        "dataset_test['Hour'] = dataset_test.index.hour\n",
        "dataset['Minute'] = dataset.index.minute\n",
        "dataset_test['Minute'] = dataset_test.index.minute"
      ],
      "metadata": {
        "id": "8VDnPFzya45x"
      },
      "execution_count": 10,
      "outputs": []
    },
    {
      "cell_type": "markdown",
      "source": [
        "Save to CSV file"
      ],
      "metadata": {
        "id": "C01zbGFsbVBF"
      }
    },
    {
      "cell_type": "code",
      "source": [
        "dataset.to_csv('dataset.csv', index=True)\n",
        "dataset_test.to_csv('dataset_test.csv', index=True)"
      ],
      "metadata": {
        "id": "ioVSX7HjbZBM"
      },
      "execution_count": 11,
      "outputs": []
    },
    {
      "cell_type": "markdown",
      "source": [
        "Part 2 - Data preprocessing"
      ],
      "metadata": {
        "id": "r6i7J77LdFav"
      }
    },
    {
      "cell_type": "code",
      "source": [
        "# Leave only the flow column\n",
        "training_set = dataset.iloc[:, 0:1].values\n",
        "print(training_set.shape)"
      ],
      "metadata": {
        "id": "FpV6VmiEdJmq",
        "colab": {
          "base_uri": "https://localhost:8080/"
        },
        "outputId": "f7533510-28a3-4248-f11f-2a2bc83b8bca"
      },
      "execution_count": 12,
      "outputs": [
        {
          "output_type": "stream",
          "name": "stdout",
          "text": [
            "(88704, 1)\n"
          ]
        }
      ]
    },
    {
      "cell_type": "markdown",
      "source": [
        "Feature scaling"
      ],
      "metadata": {
        "id": "mgKM6T56eaPs"
      }
    },
    {
      "cell_type": "code",
      "source": [
        "from sklearn.preprocessing import MinMaxScaler\n",
        "sc = MinMaxScaler(feature_range = (0, 1))\n",
        "training_set_scaled = sc.fit_transform(training_set)\n",
        "print(training_set_scaled.shape)"
      ],
      "metadata": {
        "id": "4Ic8DRbmedWb",
        "colab": {
          "base_uri": "https://localhost:8080/"
        },
        "outputId": "3467009b-c42a-4285-9f63-57f600885e97"
      },
      "execution_count": 13,
      "outputs": [
        {
          "output_type": "stream",
          "name": "stdout",
          "text": [
            "(88704, 1)\n"
          ]
        }
      ]
    },
    {
      "cell_type": "markdown",
      "source": [
        "Creating a data structure with 1 days timesteps and 1 output"
      ],
      "metadata": {
        "id": "hMOlLIIZgZJV"
      }
    },
    {
      "cell_type": "code",
      "source": [
        "X_train = []\n",
        "y_train = []\n",
        "# 7 day are 2016 (7x12x24) sequences\n",
        "sequence_length = 2016\n",
        "\n",
        "for i in range(sequence_length, len(training_set_scaled)):\n",
        "    X_train.append(training_set_scaled[i-sequence_length:i])\n",
        "    y_train.append(training_set_scaled[i, 0])\n",
        "X_train, y_train = np.array(X_train), np.array(y_train)\n",
        "print(X_train.shape)\n",
        "print(y_train.shape)"
      ],
      "metadata": {
        "id": "FSsM6PSlgg1d",
        "colab": {
          "base_uri": "https://localhost:8080/"
        },
        "outputId": "715d48de-69b5-485f-d77f-66ad968726ad"
      },
      "execution_count": 14,
      "outputs": [
        {
          "output_type": "stream",
          "name": "stdout",
          "text": [
            "(86688, 2016, 1)\n",
            "(86688,)\n"
          ]
        }
      ]
    },
    {
      "cell_type": "markdown",
      "source": [
        "Reshaping input data for LSTM: [samples, time steps, features]"
      ],
      "metadata": {
        "id": "bU5XXOo1mEwP"
      }
    },
    {
      "cell_type": "code",
      "source": [
        "#print(X_train.shape)\n",
        "#print(y_train.shape)\n",
        "X_train = np.reshape(X_train, (X_train.shape[0], X_train.shape[1], X_train.shape[2]))"
      ],
      "metadata": {
        "id": "6FBX-qa0mHM9"
      },
      "execution_count": 15,
      "outputs": []
    },
    {
      "cell_type": "markdown",
      "source": [
        "Part 3 - Building the RNN"
      ],
      "metadata": {
        "id": "oow7Vw7KoDVM"
      }
    },
    {
      "cell_type": "code",
      "source": [
        "# Importing the Keras libraries and packages\n",
        "from keras.models import Sequential\n",
        "from keras.layers import Input\n",
        "from keras.layers import Dense\n",
        "from keras.layers import LSTM\n",
        "from keras.layers import Dropout\n",
        "\n",
        "# Initialising the RNN\n",
        "regressor = Sequential()\n",
        "\n",
        "# Create 50 neurons and drop 20%\n",
        "# Add an Input layer to specify the shape of the input\n",
        "regressor.add(Input(shape=(X_train.shape[1], X_train.shape[2])))\n",
        "# Adding the LSTM layers and some Dropout regularisation\n",
        "regressor.add(LSTM(units = 50, return_sequences = True))\n",
        "regressor.add(Dropout(0.2))\n",
        "regressor.add(LSTM(units = 50, return_sequences = True))\n",
        "regressor.add(Dropout(0.2))\n",
        "regressor.add(LSTM(units = 50, return_sequences = True))\n",
        "regressor.add(Dropout(0.2))\n",
        "regressor.add(LSTM(units = 50, return_sequences = False))\n",
        "regressor.add(Dropout(0.2))\n",
        "# Adding the output layer\n",
        "regressor.add(Dense(units = 1))"
      ],
      "metadata": {
        "id": "t_x9U2gFoHs4"
      },
      "execution_count": 16,
      "outputs": []
    },
    {
      "cell_type": "markdown",
      "source": [
        "Compiling the RNN"
      ],
      "metadata": {
        "id": "wrcMeTdBpUMi"
      }
    },
    {
      "cell_type": "code",
      "source": [
        "from keras.metrics import MeanAbsoluteError # Monitoring Model Performance\n",
        "regressor.compile(optimizer = 'adam', loss = 'mean_squared_error', metrics=[MeanAbsoluteError()])\n",
        "\n",
        "# Callbacks for early stopping and model checkpointing\n",
        "from keras.callbacks import EarlyStopping, ModelCheckpoint\n",
        "early_stopping = EarlyStopping(monitor='val_loss', patience=5)\n",
        "model_checkpoint = ModelCheckpoint('best_flow_prediction_model.keras', save_best_only=True)\n",
        "\n",
        "# Validation Set\n",
        "from sklearn.model_selection import train_test_split\n",
        "# Splitting the dataset into training and validation sets\n",
        "X_train, X_val, y_train, y_val = train_test_split(X_train, y_train, test_size=0.2, random_state=42)"
      ],
      "metadata": {
        "id": "5481aPoupYdW"
      },
      "execution_count": 17,
      "outputs": []
    },
    {
      "cell_type": "markdown",
      "source": [
        "Fitting the RNN to the Training set"
      ],
      "metadata": {
        "id": "GZAfCGjGsend"
      }
    },
    {
      "cell_type": "code",
      "source": [
        "regressor.fit(X_train, y_train, epochs = 20, batch_size = 32,\n",
        "              validation_data=(X_val, y_val),\n",
        "              callbacks=[early_stopping, model_checkpoint])\n",
        "\n",
        "# Save the model\n",
        "regressor.save('flow_prediction_model.keras')"
      ],
      "metadata": {
        "colab": {
          "base_uri": "https://localhost:8080/"
        },
        "id": "OmAzAGtKsi76",
        "outputId": "a6f46863-53b4-433a-f046-e2f803048a24"
      },
      "execution_count": null,
      "outputs": [
        {
          "output_type": "stream",
          "name": "stdout",
          "text": [
            "Epoch 1/20\n",
            "\u001b[1m2168/2168\u001b[0m \u001b[32m━━━━━━━━━━━━━━━━━━━━\u001b[0m\u001b[37m\u001b[0m \u001b[1m501s\u001b[0m 228ms/step - loss: 0.0076 - mean_absolute_error: 0.0642 - val_loss: 0.0035 - val_mean_absolute_error: 0.0460\n",
            "Epoch 2/20\n",
            "\u001b[1m2168/2168\u001b[0m \u001b[32m━━━━━━━━━━━━━━━━━━━━\u001b[0m\u001b[37m\u001b[0m \u001b[1m485s\u001b[0m 222ms/step - loss: 0.0036 - mean_absolute_error: 0.0452 - val_loss: 0.0031 - val_mean_absolute_error: 0.0423\n",
            "Epoch 3/20\n",
            "\u001b[1m2168/2168\u001b[0m \u001b[32m━━━━━━━━━━━━━━━━━━━━\u001b[0m\u001b[37m\u001b[0m \u001b[1m505s\u001b[0m 223ms/step - loss: 0.0034 - mean_absolute_error: 0.0432 - val_loss: 0.0030 - val_mean_absolute_error: 0.0395\n",
            "Epoch 4/20\n",
            "\u001b[1m2168/2168\u001b[0m \u001b[32m━━━━━━━━━━━━━━━━━━━━\u001b[0m\u001b[37m\u001b[0m \u001b[1m536s\u001b[0m 239ms/step - loss: 0.0033 - mean_absolute_error: 0.0430 - val_loss: 0.0030 - val_mean_absolute_error: 0.0394\n",
            "Epoch 5/20\n",
            "\u001b[1m2168/2168\u001b[0m \u001b[32m━━━━━━━━━━━━━━━━━━━━\u001b[0m\u001b[37m\u001b[0m \u001b[1m531s\u001b[0m 225ms/step - loss: 0.0033 - mean_absolute_error: 0.0425 - val_loss: 0.0029 - val_mean_absolute_error: 0.0388\n",
            "Epoch 6/20\n",
            "\u001b[1m2168/2168\u001b[0m \u001b[32m━━━━━━━━━━━━━━━━━━━━\u001b[0m\u001b[37m\u001b[0m \u001b[1m536s\u001b[0m 240ms/step - loss: 0.0033 - mean_absolute_error: 0.0425 - val_loss: 0.0031 - val_mean_absolute_error: 0.0418\n",
            "Epoch 7/20\n",
            "\u001b[1m2168/2168\u001b[0m \u001b[32m━━━━━━━━━━━━━━━━━━━━\u001b[0m\u001b[37m\u001b[0m \u001b[1m523s\u001b[0m 223ms/step - loss: 0.0033 - mean_absolute_error: 0.0421 - val_loss: 0.0030 - val_mean_absolute_error: 0.0401\n",
            "Epoch 8/20\n",
            "\u001b[1m2168/2168\u001b[0m \u001b[32m━━━━━━━━━━━━━━━━━━━━\u001b[0m\u001b[37m\u001b[0m \u001b[1m505s\u001b[0m 224ms/step - loss: 0.0032 - mean_absolute_error: 0.0420 - val_loss: 0.0029 - val_mean_absolute_error: 0.0388\n",
            "Epoch 9/20\n",
            "\u001b[1m2168/2168\u001b[0m \u001b[32m━━━━━━━━━━━━━━━━━━━━\u001b[0m\u001b[37m\u001b[0m \u001b[1m499s\u001b[0m 223ms/step - loss: 0.0033 - mean_absolute_error: 0.0422 - val_loss: 0.0030 - val_mean_absolute_error: 0.0401\n",
            "Epoch 10/20\n",
            "\u001b[1m1483/2168\u001b[0m \u001b[32m━━━━━━━━━━━━━\u001b[0m\u001b[37m━━━━━━━\u001b[0m \u001b[1m2:17\u001b[0m 201ms/step - loss: 0.0032 - mean_absolute_error: 0.0421"
          ]
        }
      ]
    },
    {
      "cell_type": "markdown",
      "source": [
        "Part 4 - Making the predictions and visualising the results"
      ],
      "metadata": {
        "id": "sg6dfVgGuvrx"
      }
    },
    {
      "cell_type": "code",
      "source": [
        "# Getting the real flow of the last day\n",
        "real_flow = dataset_test.iloc[:, 0].values\n",
        "#x_value = dataset_test.index.values\n",
        "\n",
        "# Getting the predicted flow of the last day\n",
        "dataset_total = pd.concat((dataset['Distribuído'], dataset_test['Distribuído']), axis = 0)\n",
        "print(dataset_total.shape)\n",
        "inputs = dataset_total[len(dataset_total) - len(dataset_test) - sequence_length:].values\n",
        "print(inputs.shape)\n",
        "inputs = inputs.reshape(-1,1)\n",
        "print(inputs.shape)\n",
        "inputs = sc.fit_transform(inputs)\n",
        "\n",
        "\n",
        "# Define the lookback period for sequence input to the model\n",
        "lookback_period = 2016\n",
        "\n",
        "X_test = []\n",
        "for i in range(lookback_period, len(inputs)):\n",
        "    X_test.append(inputs[i - lookback_period:i, 0])\n",
        "X_test = np.array(X_test)\n",
        "X_test = np.reshape(X_test, (X_test.shape[0], X_test.shape[1], 1))\n",
        "\n",
        "predicted_flow = regressor.predict(X_test)\n",
        "predicted_flow = sc.inverse_transform(predicted_flow)\n"
      ],
      "metadata": {
        "colab": {
          "base_uri": "https://localhost:8080/"
        },
        "id": "Yp0sB-rPuyff",
        "outputId": "60c3f59e-c060-454a-ed71-e489a87ccee9"
      },
      "execution_count": null,
      "outputs": [
        {
          "output_type": "stream",
          "name": "stdout",
          "text": [
            "(88416,)\n",
            "(574,)\n",
            "(574, 1)\n",
            "\u001b[1m9/9\u001b[0m \u001b[32m━━━━━━━━━━━━━━━━━━━━\u001b[0m\u001b[37m\u001b[0m \u001b[1m1s\u001b[0m 64ms/step\n"
          ]
        }
      ]
    },
    {
      "cell_type": "markdown",
      "source": [
        "Visualising the results"
      ],
      "metadata": {
        "id": "yOHxd-oKvvSz"
      }
    },
    {
      "cell_type": "code",
      "source": [
        "plt.plot(real_flow, color = 'red', label = 'Real Flow')\n",
        "plt.plot(predicted_flow, color = 'blue', label = 'Predicted Flow')\n",
        "plt.title('ZMC ZA1 - Flow Prediction')\n",
        "plt.xlabel('Time')\n",
        "plt.ylabel('Flow (m3/h)')\n",
        "plt.legend()\n",
        "\n",
        "# Save the plot to a file instead of displaying it\n",
        "plt.savefig('flow_prediction.png')\n",
        "\n",
        "plt.show()"
      ],
      "metadata": {
        "colab": {
          "base_uri": "https://localhost:8080/",
          "height": 472
        },
        "id": "StiKt1dgvy4H",
        "outputId": "33c57b78-a7b1-40b3-d942-a4a28b82f929"
      },
      "execution_count": null,
      "outputs": [
        {
          "output_type": "display_data",
          "data": {
            "text/plain": [
              "<Figure size 640x480 with 1 Axes>"
            ],
            "image/png": "[encoded data removed]"
          },
          "metadata": {}
        }
      ]
    }
  ]
}