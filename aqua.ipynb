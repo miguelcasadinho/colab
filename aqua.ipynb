{
  "nbformat": 4,
  "nbformat_minor": 0,
  "metadata": {
    "colab": {
      "provenance": [],
      "authorship_tag": "ABX9TyMqRcLi0Tu43ABWyKpYr8MY",
      "include_colab_link": true
    },
    "kernelspec": {
      "name": "python3",
      "display_name": "Python 3"
    },
    "language_info": {
      "name": "python"
    }
  },
  "cells": [
    {
      "cell_type": "markdown",
      "metadata": {
        "id": "view-in-github",
        "colab_type": "text"
      },
      "source": [
        "<a href=\"https://colab.research.google.com/github/miguelcasadinho/colab/blob/main/aqua.ipynb\" target=\"_parent\"><img src=\"https://colab.research.google.com/assets/colab-badge.svg\" alt=\"Open In Colab\"/></a>"
      ]
    },
    {
      "cell_type": "markdown",
      "source": [
        "Data cleaning"
      ],
      "metadata": {
        "id": "qZUSpMmzqNwP"
      }
    },
    {
      "cell_type": "code",
      "source": [
        "# Import the libraries\n",
        "import numpy as np\n",
        "import pandas as pd"
      ],
      "metadata": {
        "id": "5xjHeBJ_qREi"
      },
      "execution_count": 1,
      "outputs": []
    },
    {
      "cell_type": "code",
      "source": [
        "# Import the dataset\n",
        "dataset = pd.read_csv('Dados SIG_11_.2024.csv', sep=';')\n",
        "\n",
        "# Keep only specific columns\n",
        "columns_to_keep = ['Ramal','Local','Nº Prédio','Nr.Cliente','Tipo Sensibilidade','Nome','Rua A.','Policia A.','Andar A.','Localidade A.','ZMC','Zona','Área','Nº Seq. Leitura','Grupo Tarifário','Tipo Utilização','Classe Consumo','Situação','Data Situação','Data Instalação','Calibre Local','Fabricante','Modelo do Contador','Número Fabricante','Calibre','Data Última Leitura Facturada','Valor Última Leitura Facturada','Data Última Leitura Empresa','Valor Última Leitura Empresa']\n",
        "dataset = dataset[columns_to_keep]\n",
        "\n",
        "# Rename specific columns\n",
        "dataset = dataset.rename(columns={'Nº Prédio':'Predio','Nr.Cliente':'Cliente','Tipo Sensibilidade':'sensi','Rua A.':'Arruamento','Rua A.':'NPolicia','Área':'Area','Nº Seq. Leitura':'Sequencia','Grupo Tarifário':'Tarifario','Tipo Utilização':'Utilizacao','Classe Consumo':'ClasseConsumo','Situação':'Situacao','Data Situação':'DataSituacao','Data Instalação':'DataInstalacao','Calibre Local':'CalibreLocal','Fabricante':'Marca','Modelo do Contador':'Modelo','Número Fabricante':'Numero','Calibre':'DN','Data Última Leitura Facturada':'DataULF','Valor Última Leitura Facturada':'ULF','Data Última Leitura Empresa':'DataULE','Valor Última Leitura Empresa':'ULE'})\n",
        "print(dataset)"
      ],
      "metadata": {
        "id": "UnpDsnriqZxi"
      },
      "execution_count": null,
      "outputs": []
    },
    {
      "cell_type": "code",
      "source": [
        "# Save to csv\n",
        "dataset.to_csv('dataset.csv')"
      ],
      "metadata": {
        "id": "F5pck5OH5ZRk"
      },
      "execution_count": 20,
      "outputs": []
    }
  ]
}