{
  "nbformat": 4,
  "nbformat_minor": 0,
  "metadata": {
    "colab": {
      "provenance": [],
      "authorship_tag": "ABX9TyNG+/BxeeSdGS3ogVtml7tX",
      "include_colab_link": true
    },
    "kernelspec": {
      "name": "python3",
      "display_name": "Python 3"
    },
    "language_info": {
      "name": "python"
    }
  },
  "cells": [
    {
      "cell_type": "markdown",
      "metadata": {
        "id": "view-in-github",
        "colab_type": "text"
      },
      "source": [
        "<a href=\"https://colab.research.google.com/github/miguelcasadinho/colab/blob/main/aqua.ipynb\" target=\"_parent\"><img src=\"https://colab.research.google.com/assets/colab-badge.svg\" alt=\"Open In Colab\"/></a>"
      ]
    },
    {
      "cell_type": "markdown",
      "source": [
        "Data cleaning"
      ],
      "metadata": {
        "id": "qZUSpMmzqNwP"
      }
    },
    {
      "cell_type": "code",
      "source": [
        "# Import the libraries\n",
        "import numpy as np\n",
        "import pandas as pd"
      ],
      "metadata": {
        "id": "5xjHeBJ_qREi"
      },
      "execution_count": 2,
      "outputs": []
    },
    {
      "cell_type": "markdown",
      "source": [
        "GIS Dataset"
      ],
      "metadata": {
        "id": "E5ebP-pqGJ7k"
      }
    },
    {
      "cell_type": "code",
      "source": [
        "# Import the dataset\n",
        "dataset = pd.read_csv('Dados SIG_11_.2024.csv', sep=';', skiprows=2)\n",
        "\n",
        "# Keep only specific columns\n",
        "columns_to_keep = ['Ramal','Local','Nº Prédio','Nr.Cliente','Entidade','Tipo Sensibilidade','Nome','Rua A.','Policia A.','Andar A.','Localidade A.','ZMC','Zona','Área','Nº Seq. Leitura','Grupo Tarifário','Tipo Utilização','Classe Consumo','Situação','Data Situação','Data Instalação','Calibre Local','Fabricante','Modelo do Contador','Número Fabricante','Calibre','Data Última Leitura Facturada','Valor Última Leitura Facturada','Data Última Leitura Empresa','Valor Última Leitura Empresa']\n",
        "dataset = dataset[columns_to_keep]\n",
        "\n",
        "# Rename specific columns\n",
        "dataset = dataset.rename(columns={'Nº Prédio':'Predio','Nr.Cliente':'Cliente','Tipo Sensibilidade':'sensi','Rua A.':'Arruamento','Policia A.':'NPolicia','Área':'Area','Nº Seq. Leitura':'Sequencia','Grupo Tarifário':'Tarifario','Tipo Utilização':'Utilizacao','Classe Consumo':'ClasseConsumo','Situação':'Situacao','Data Situação':'DataSituacao','Data Instalação':'DataInstalacao','Calibre Local':'CalibreLocal','Fabricante':'Marca','Modelo do Contador':'Modelo','Número Fabricante':'Numero','Calibre':'DN','Data Última Leitura Facturada':'DataULF','Valor Última Leitura Facturada':'ULF','Data Última Leitura Empresa':'DataULE','Valor Última Leitura Empresa':'ULE'})\n",
        "\n",
        "print(dataset.shape)\n",
        "print(dataset.head)\n"
      ],
      "metadata": {
        "id": "UnpDsnriqZxi"
      },
      "execution_count": null,
      "outputs": []
    },
    {
      "cell_type": "code",
      "source": [
        "# Save to csv\n",
        "dataset.to_csv('dataset.csv')"
      ],
      "metadata": {
        "id": "F5pck5OH5ZRk"
      },
      "execution_count": null,
      "outputs": []
    },
    {
      "cell_type": "markdown",
      "source": [
        "Fat Dataset"
      ],
      "metadata": {
        "id": "jrvoxojMGNZd"
      }
    },
    {
      "cell_type": "code",
      "source": [
        "# Import the dataset\n",
        "dataset_fat = pd.read_csv('Faturado por cliente_2024.csv', sep=';', skiprows=8)\n",
        "\n",
        "# Keep only specific columns\n",
        "fat_columns_to_keep = ['Cliente','2024 Janeiro','2024 Fevereiro','2024 Março','2024 Abril','2024 Maio','2024 Junho','2024 Julho','2024 Agosto','2024 Setembro','2024 Outubro','2024 Novembro']#,'2024 Dezembro']\n",
        "dataset_fat = dataset_fat[fat_columns_to_keep]\n",
        "\n",
        "# Rename specific columns\n",
        "dataset_fat = dataset_fat.rename(columns={'2024 Janeiro':'Jan','2024 Fevereiro':'Fev','2024 Março':'Mar','2024 Abril':'Abr','2024 Maio':'Mai','2024 Junho':'Jun','2024 Julho':'Jul','2024 Agosto':'Ago','2024 Setembro':'Set_','2024 Outubro':'Out','2024 Novembro':'Nov'})#,'2024 Dezembro':'Dez'})\n",
        "\n",
        "# Replace all NaN values with 0\n",
        "dataset_fat = dataset_fat.fillna(0)\n",
        "\n",
        "print(dataset_fat.shape)\n",
        "print(dataset_fat.head)"
      ],
      "metadata": {
        "id": "mMI3-cv8GPjN"
      },
      "execution_count": null,
      "outputs": []
    },
    {
      "cell_type": "code",
      "source": [
        "# Save to csv\n",
        "dataset_fat.to_csv('dataset_fat.csv')"
      ],
      "metadata": {
        "id": "9bOiISZgJSbv"
      },
      "execution_count": null,
      "outputs": []
    }
  ]
}