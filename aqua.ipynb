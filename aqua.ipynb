{
  "nbformat": 4,
  "nbformat_minor": 0,
  "metadata": {
    "colab": {
      "provenance": [],
      "authorship_tag": "ABX9TyPuSd+Vt08Xzmuzs5emaQD7",
      "include_colab_link": true
    },
    "kernelspec": {
      "name": "python3",
      "display_name": "Python 3"
    },
    "language_info": {
      "name": "python"
    }
  },
  "cells": [
    {
      "cell_type": "markdown",
      "metadata": {
        "id": "view-in-github",
        "colab_type": "text"
      },
      "source": [
        "<a href=\"https://colab.research.google.com/github/miguelcasadinho/colab/blob/main/aqua.ipynb\" target=\"_parent\"><img src=\"https://colab.research.google.com/assets/colab-badge.svg\" alt=\"Open In Colab\"/></a>"
      ]
    },
    {
      "cell_type": "markdown",
      "source": [
        "Data cleaning"
      ],
      "metadata": {
        "id": "qZUSpMmzqNwP"
      }
    },
    {
      "cell_type": "code",
      "source": [
        "# Import the libraries\n",
        "import numpy as np\n",
        "import pandas as pd"
      ],
      "metadata": {
        "id": "5xjHeBJ_qREi"
      },
      "execution_count": 1,
      "outputs": []
    },
    {
      "cell_type": "code",
      "source": [
        "# Import the dataset\n",
        "dataset = pd.read_csv('Dados SIG_11_.2024.csv', sep=';', skiprows=2)\n",
        "\n",
        "# Keep only specific columns\n",
        "columns_to_keep = ['Ramal','Local','Nº Prédio','Nr.Cliente','Tipo Sensibilidade','Nome','Rua A.','Policia A.','Andar A.','Localidade A.','ZMC','Zona','Área','Nº Seq. Leitura','Grupo Tarifário','Tipo Utilização','Classe Consumo','Situação','Data Situação','Data Instalação','Calibre Local','Fabricante','Modelo do Contador','Número Fabricante','Calibre','Data Última Leitura Facturada','Valor Última Leitura Facturada','Data Última Leitura Empresa','Valor Última Leitura Empresa']\n",
        "dataset = dataset[columns_to_keep]\n",
        "\n",
        "# Rename specific columns\n",
        "dataset = dataset.rename(columns={'Nº Prédio':'Predio','Nr.Cliente':'Cliente','Tipo Sensibilidade':'sensi','Rua A.':'Arruamento','Rua A.':'NPolicia','Área':'Area','Nº Seq. Leitura':'Sequencia','Grupo Tarifário':'Tarifario','Tipo Utilização':'Utilizacao','Classe Consumo':'ClasseConsumo','Situação':'Situacao','Data Situação':'DataSituacao','Data Instalação':'DataInstalacao','Calibre Local':'CalibreLocal','Fabricante':'Marca','Modelo do Contador':'Modelo','Número Fabricante':'Numero','Calibre':'DN','Data Última Leitura Facturada':'DataULF','Valor Última Leitura Facturada':'ULF','Data Última Leitura Empresa':'DataULE','Valor Última Leitura Empresa':'ULE'})\n",
        "\n",
        "print(dataset.shape)\n",
        "print(dataset.head)\n"
      ],
      "metadata": {
        "colab": {
          "base_uri": "https://localhost:8080/"
        },
        "id": "UnpDsnriqZxi",
        "outputId": "a7efd1ac-6009-459c-8f9a-01c2ea5bf213"
      },
      "execution_count": 34,
      "outputs": [
        {
          "output_type": "stream",
          "name": "stderr",
          "text": [
            "<ipython-input-34-8c0d1921125b>:2: DtypeWarning: Columns (8,11,23,24,30,103,121,122,123,135,138,143,145,147,155,156,159,163,172,204,206) have mixed types. Specify dtype option on import or set low_memory=False.\n",
            "  dataset = pd.read_csv('Dados SIG_11_.2024.csv', sep=';', skiprows=2)\n"
          ]
        },
        {
          "output_type": "stream",
          "name": "stdout",
          "text": [
            "(44305, 29)\n",
            "<bound method NDFrame.head of          Ramal  Local  Predio  Cliente     sensi  \\\n",
            "0      1059013  24033  165670  1767011  1 NORMAL   \n",
            "1      1220020  24215  166308  2001012  1 NORMAL   \n",
            "2       364074  24239  166367  2018616  1 NORMAL   \n",
            "3        25070  24249  166413  2030217  1 NORMAL   \n",
            "4       577034   2004   13793  1910817  1 NORMAL   \n",
            "...        ...    ...     ...      ...       ...   \n",
            "44300   757008  16224    5924  2245612  1 NORMAL   \n",
            "44301   902045  13212   10994  2254417  1 NORMAL   \n",
            "44302  1233001  19254    9130  2156210  1 NORMAL   \n",
            "44303   893023   1596    1449  2327813  1 NORMAL   \n",
            "44304   757046    204    9134  2446618  1 NORMAL   \n",
            "\n",
            "                                          Nome  \\\n",
            "0                          JOANA AMELIA SOEIRO   \n",
            "1                        CÂMARA MUNICIPAL BEJA   \n",
            "2      MIGUEL ANGELO VALENTE SANTOS DE FREITAS   \n",
            "3                    FREGUESIA DE CABEÇA GORDA   \n",
            "4       JOAO VITOR MONTE TRIGO MONGE GUERREIRO   \n",
            "...                                        ...   \n",
            "44300                         IMOCONCRETO, LDA   \n",
            "44301            HILÁRIO BORRALHO LOBATO SERRA   \n",
            "44302          JOSÉ EDUARDO MOURA DE MIRA CRUZ   \n",
            "44303               MAURO DAVID JACINTO SANTOS   \n",
            "44304                ANTONIO CALVARIO ESTEVENS   \n",
            "\n",
            "                                     NPolicia     Policia A.  \\\n",
            "0                           RUA DO PÉ DA CRUZ              7   \n",
            "1                         RUA DA CADEIA VELHA  BOCA INCENDIO   \n",
            "2                             RUA JOSÉ VARGAS              6   \n",
            "3                       RUA MARQUÊS DE POMBAL     ZONA VERDE   \n",
            "4                      RUA CORONEL BRITO PAIS             12   \n",
            "...                                       ...            ...   \n",
            "44300                        RUA TEN. VALADIM             78   \n",
            "44301                RUA INFANTE DOM HENRIQUE             16   \n",
            "44302                PRCT MESTRE JOAQUIM MATA              1   \n",
            "44303  BAIRRO RESIDENCIAL DA BASE AÉREA 11 BL      -TS 1/S 2   \n",
            "44304                        RUA TEN. VALADIM             17   \n",
            "\n",
            "                   Andar A. Localidade A.  ... DataInstalacao  CalibreLocal  \\\n",
            "0                       NaN          BEJA  ...            NaN            15   \n",
            "1      Frt N2 (Beja Romana)          BEJA  ...            NaN            15   \n",
            "2                       NaN      BALEIZÃO  ...            NaN            15   \n",
            "3                       NaN  CABEÇA GORDA  ...            NaN            15   \n",
            "4                       NaN          BEJA  ...     05/08/2010            15   \n",
            "...                     ...           ...  ...            ...           ...   \n",
            "44300                   NaN          BEJA  ...     20/03/2024            15   \n",
            "44301             1ºFR 1 FR          BEJA  ...     27/03/2024            20   \n",
            "44302                   2FT          BEJA  ...     22/01/2008            20   \n",
            "44303                  4C/D          BEJA  ...     12/06/2020            15   \n",
            "44304                   1EQ          BEJA  ...     23/01/2020            20   \n",
            "\n",
            "                      Marca      Modelo                Numero    DN  \\\n",
            "0                       NaN         NaN                   NaN   NaN   \n",
            "1                       NaN         NaN                   NaN   NaN   \n",
            "2                       NaN         NaN                   NaN   NaN   \n",
            "3                       NaN         NaN                   NaN   NaN   \n",
            "4                1 ATLANTIS    ATL.15.5        2010/555746010  15.0   \n",
            "...                     ...         ...                   ...   ...   \n",
            "44300               19 JANZ      JV 600          2023/8987379  15.0   \n",
            "44301               19 JANZ  JV 400 2.5          2023/9132145  20.0   \n",
            "44302  4 FLOW SYSTEM LORENZ    FLO.20.5         2007/80256707  20.0   \n",
            "44303             20 AXIOMA  QALCOSONIC          2019/5089223  15.0   \n",
            "44304         12 Bruno Janz       JV400  2019/000000007801593  20.0   \n",
            "\n",
            "          DataULF     ULF     DataULE     ULE  \n",
            "0             NaN     NaN         NaN     NaN  \n",
            "1             NaN     NaN         NaN     NaN  \n",
            "2             NaN     NaN         NaN     NaN  \n",
            "3             NaN     NaN         NaN     NaN  \n",
            "4             NaN     NaN  01/02/2023    17.0  \n",
            "...           ...     ...         ...     ...  \n",
            "44300  07/06/2024     4.0  08/05/2024     2.0  \n",
            "44301  02/09/2024    35.0  27/08/2024    34.0  \n",
            "44302  01/02/2024  1110.0  31/01/2024  1110.0  \n",
            "44303  23/08/2024   140.0  31/07/2024   140.0  \n",
            "44304  04/11/2024   214.0  31/10/2024   214.0  \n",
            "\n",
            "[44305 rows x 29 columns]>\n"
          ]
        }
      ]
    },
    {
      "cell_type": "code",
      "source": [
        "# Save to csv\n",
        "dataset.to_csv('dataset.csv')"
      ],
      "metadata": {
        "id": "F5pck5OH5ZRk"
      },
      "execution_count": 35,
      "outputs": []
    }
  ]
}