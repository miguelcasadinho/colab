{
  "nbformat": 4,
  "nbformat_minor": 0,
  "metadata": {
    "colab": {
      "provenance": [],
      "authorship_tag": "ABX9TyNPC/UsoZe2jo25NI5dzI2P",
      "include_colab_link": true
    },
    "kernelspec": {
      "name": "python3",
      "display_name": "Python 3"
    },
    "language_info": {
      "name": "python"
    }
  },
  "cells": [
    {
      "cell_type": "markdown",
      "metadata": {
        "id": "view-in-github",
        "colab_type": "text"
      },
      "source": [
        "<a href=\"https://colab.research.google.com/github/miguelcasadinho/colab/blob/main/weather_flow.ipynb\" target=\"_parent\"><img src=\"https://colab.research.google.com/assets/colab-badge.svg\" alt=\"Open In Colab\"/></a>"
      ]
    },
    {
      "cell_type": "markdown",
      "source": [
        "Part 1 - Data cleaning"
      ],
      "metadata": {
        "id": "jiY2yDFGehHu"
      }
    },
    {
      "cell_type": "code",
      "execution_count": 2,
      "metadata": {
        "id": "XFEyJ_V5dMfR"
      },
      "outputs": [],
      "source": [
        "# Import the libraries\n",
        "import numpy as np\n",
        "import pandas as pd\n",
        "import matplotlib.pyplot as plt\n",
        "from datetime import datetime, timedelta"
      ]
    },
    {
      "cell_type": "code",
      "source": [
        "# Import the datasets\n",
        "weather = pd.read_csv('weather_data.csv')\n",
        "print(weather)\n",
        "meter = pd.read_csv('meter_data.csv')\n",
        "print(meter)"
      ],
      "metadata": {
        "colab": {
          "base_uri": "https://localhost:8080/"
        },
        "id": "8SwZkrMiejaT",
        "outputId": "c8999ba8-51ac-4228-b50e-88ec1dca9036"
      },
      "execution_count": 5,
      "outputs": [
        {
          "output_type": "stream",
          "name": "stdout",
          "text": [
            "      weather_id              device                 date  air_temperature  \\\n",
            "0         113401  101990961224700476  2024-10-14 00:03:26             17.7   \n",
            "1         113402  101990961224700476  2024-10-14 00:08:28             17.8   \n",
            "2         113403  101990961224700476  2024-10-14 00:13:30             17.9   \n",
            "3         113404  101990961224700476  2024-10-14 00:18:32             17.9   \n",
            "4         113405  101990961224700476  2024-10-14 00:23:34             17.9   \n",
            "...          ...                 ...                  ...              ...   \n",
            "8847      122248  101990961224700476  2024-11-13 23:35:26              8.5   \n",
            "8848      122249  101990961224700476  2024-11-13 23:40:28              8.5   \n",
            "8849      122250  101990961224700476  2024-11-13 23:45:30              8.5   \n",
            "8850      122251  101990961224700476  2024-11-13 23:50:32              8.4   \n",
            "8851      122252  101990961224700476  2024-11-13 23:55:35              8.2   \n",
            "\n",
            "      air_humidity  light_intensity  uv_index  wind_speed  wind_direction  \\\n",
            "0               87                0       0.0         2.0             186   \n",
            "1               88                0       0.0         2.3             192   \n",
            "2               88                0       0.0         2.0             186   \n",
            "3               88                0       0.0         1.9             186   \n",
            "4               89                0       0.0         1.6             186   \n",
            "...            ...              ...       ...         ...             ...   \n",
            "8847            86                0       0.0         0.0              96   \n",
            "8848            86                0       0.0         0.0             108   \n",
            "8849            86                0       0.0         0.0              96   \n",
            "8850            87                0       0.0         2.0              90   \n",
            "8851            88                0       0.0         0.0              91   \n",
            "\n",
            "      rain_gauge  barometric_pressure  \n",
            "0            0.0                98190  \n",
            "1            0.0                98190  \n",
            "2            0.0                98180  \n",
            "3            0.0                98190  \n",
            "4            0.0                98190  \n",
            "...          ...                  ...  \n",
            "8847         0.0                97790  \n",
            "8848         0.0                97790  \n",
            "8849         0.0                97790  \n",
            "8850         0.0                97800  \n",
            "8851         0.0                97800  \n",
            "\n",
            "[8852 rows x 11 columns]\n",
            "                      Time  Distribuído\n",
            "0      2024-10-14 00:03:59         32.7\n",
            "1      2024-10-14 00:08:27         30.0\n",
            "2      2024-10-14 00:12:57         30.0\n",
            "3      2024-10-14 00:12:57         30.0\n",
            "4      2024-10-14 00:17:27         27.7\n",
            "...                    ...          ...\n",
            "14819  2024-11-13 23:38:19         20.0\n",
            "14820  2024-11-13 23:42:56         20.0\n",
            "14821  2024-11-13 23:47:35         18.9\n",
            "14822  2024-11-13 23:52:09         18.9\n",
            "14823  2024-11-13 23:57:28         20.0\n",
            "\n",
            "[14824 rows x 2 columns]\n"
          ]
        }
      ]
    },
    {
      "cell_type": "code",
      "source": [
        "# Define function to round to the nearest 5 minutes\n",
        "def round_to_nearest_5_minutes(timestamp):\n",
        "    minutes = timestamp.minute\n",
        "    nearest_5 = 5 * round(minutes / 5)\n",
        "\n",
        "    if nearest_5 == 60:\n",
        "        # Verifique se a hora é 23 e, se for, ajuste para o próximo dia\n",
        "        if timestamp.hour == 23:\n",
        "            return timestamp.replace(hour=0, minute=0, second=0, microsecond=0) + timedelta(days=1)\n",
        "        else:\n",
        "            return timestamp.replace(hour=timestamp.hour + 1, minute=0, second=0, microsecond=0)\n",
        "    else:\n",
        "        return timestamp.replace(minute=nearest_5, second=0, microsecond=0)"
      ],
      "metadata": {
        "id": "lGXKxo7tfW6r"
      },
      "execution_count": 4,
      "outputs": []
    },
    {
      "cell_type": "code",
      "source": [
        "# Round to the nearest 5 minutes\n",
        "# Convert 'date' column to datetime object\n",
        "weather['date'] = pd.to_datetime(weather['date'])\n",
        "meter['Time'] = pd.to_datetime(meter['Time'])\n",
        "\n",
        "# Apply the rounding function to the 'date' column\n",
        "weather['date'] = weather['date'].apply(round_to_nearest_5_minutes)\n",
        "meter['Time'] = meter['Time'].apply(round_to_nearest_5_minutes)\n"
      ],
      "metadata": {
        "id": "LOROpZTaffUw"
      },
      "execution_count": 6,
      "outputs": []
    },
    {
      "cell_type": "code",
      "source": [
        "'''\n",
        "# Handling rows with NaN values\n",
        "# Identify rows with NaN values\n",
        "weather_with_nan = weather[weather.isnull().any(axis=1)]\n",
        "print(\"Rows with NaN in dataset:\", weather_with_nan)\n",
        "\n",
        "# Deleting rows with NaN values\n",
        "weather.dropna(inplace=True)\n",
        "\n",
        "meter_with_nan = meter[meter.isnull().any(axis=1)]\n",
        "print(\"Rows with NaN in dataset:\", meter_with_nan)\n",
        "\n",
        "# Deleting rows with NaN values\n",
        "meter.dropna(inplace=True)\n",
        "'''"
      ],
      "metadata": {
        "id": "5Ub_VwRPkMVg"
      },
      "execution_count": null,
      "outputs": []
    },
    {
      "cell_type": "code",
      "source": [],
      "metadata": {
        "id": "6gjDrTCElkYa"
      },
      "execution_count": null,
      "outputs": []
    }
  ]
}